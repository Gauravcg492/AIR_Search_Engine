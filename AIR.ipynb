{
 "cells": [
  {
   "cell_type": "code",
   "execution_count": 2,
   "metadata": {},
   "outputs": [],
   "source": [
    "import numpy as np\n",
    "\n",
    "def cosScore(poslist,query,k):\n",
    "    N = 418\n",
    "    scores = np.zeros(N)\n",
    "    doclist = posintersect(poslist,query) #low idf will be removed\n",
    "    qlist = query.split()\n",
    "    qset = set(qlist)\n",
    "    qtfv = np.array([qlist.count(t) for t in qset])\n",
    "    idfv = np.array([np.log(N//len(poslist[t])) for t in qset])\n",
    "    w0 = qtfv*idfv\n",
    "    for docid in doclist:\n",
    "        dtfv= np.array([len(poslist[t][docid]) for t in qset])\n",
    "        w = dtfv*idfv\n",
    "        scores[docid] = np.dot(w,w0)/(np.linalg.norm(w)*np.linalg.norm(w0))\n",
    "    return np.sort(scores)[:len(doclist)]"
   ]
  },
  {
   "cell_type": "code",
   "execution_count": null,
   "metadata": {},
   "outputs": [],
   "source": [
    ")"
   ]
  }
 ],
 "metadata": {
  "kernelspec": {
   "display_name": "Python 3",
   "language": "python",
   "name": "python3"
  },
  "language_info": {
   "codemirror_mode": {
    "name": "ipython",
    "version": 3
   },
   "file_extension": ".py",
   "mimetype": "text/x-python",
   "name": "python",
   "nbconvert_exporter": "python",
   "pygments_lexer": "ipython3",
   "version": "3.6.5"
  }
 },
 "nbformat": 4,
 "nbformat_minor": 2
}
