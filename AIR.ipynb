{
 "cells": [
  {
   "cell_type": "code",
   "execution_count": 1,
   "metadata": {},
   "outputs": [],
   "source": [
    "import numpy as np\n",
    "import re\n",
    "from math import sqrt\n",
    "\n",
    "def intersect(invindex,terms):\n",
    "    d = {}\n",
    "    for t in terms:\n",
    "        d[t] = len(invindex[t])\n",
    "    s = sorted(d)\n",
    "    p1 = invindex[s[0]]\n",
    "    for i in range(1,len(s)):\n",
    "        p1 = intersectwithskips(p1,s[i])\n",
    "    return p1\n",
    "    \n",
    "def intersectwithskips(p1,p2):\n",
    "    l = []\n",
    "    i = 0\n",
    "    j = i\n",
    "    lp1 = len(p1)\n",
    "    lp2 = len(p2)\n",
    "    while i<lp1 and j<lp2:\n",
    "        if p1[i] == p2[j]:\n",
    "            l.append(p1[i])\n",
    "            i += 1\n",
    "            j += 1\n",
    "        elif p1[i] < p2[j]:\n",
    "            skip = i+sqrt(lp1)\n",
    "            if skip<lp1 and p1[skip]<=p2[i]:\n",
    "                while skip<lp1 and p1[skip]<=p2[i]:\n",
    "                    i = skip\n",
    "                i += 1\n",
    "            else:\n",
    "                skip = j+sqrt(lp2)\n",
    "                if skip<lp2 and p2[skip]<=p1[i]:\n",
    "                    while skip<lp2 and p2[skip]<=p1[i]:\n",
    "                        j = skip\n",
    "                    j += 1\n",
    "    return l\n",
    "    \n",
    "def cosScore(invindex,query,k):\n",
    "    if '*' in query:\n",
    "        terms = re.findall(query,' '.join(list(invindex.keys())))\n",
    "        doclist = intersect(invindex,terms)\n",
    "    else:\n",
    "        N = 418\n",
    "        scores = np.zeros(N)\n",
    "        doclist = posintersect(invindex,query) #low idf will be removed\n",
    "    qlist = query.split()\n",
    "    qset = set(qlist)\n",
    "    query_tf_vector = np.array([qlist.count(t) for t in qset])\n",
    "    idf_vector = np.array([np.log(N//len(invindex[t])) for t in qset])\n",
    "    w0 = query_tf_vector*idf_vector\n",
    "    for docid in doclist:\n",
    "        doc_tf_vector= np.array([len(invindex[t][docid]) for t in qset])\n",
    "        w = doc_tf_vector*idf_vector\n",
    "        scores[docid] = np.dot(w,w0)/(np.linalg.norm(w)*np.linalg.norm(w0))\n",
    "    return np.sort(scores)[:len(doclist)]"
   ]
  },
  {
   "cell_type": "code",
   "execution_count": null,
   "metadata": {},
   "outputs": [],
   "source": []
  }
 ],
 "metadata": {
  "kernelspec": {
   "display_name": "Python 3",
   "language": "python",
   "name": "python3"
  },
  "language_info": {
   "codemirror_mode": {
    "name": "ipython",
    "version": 3
   },
   "file_extension": ".py",
   "mimetype": "text/x-python",
   "name": "python",
   "nbconvert_exporter": "python",
   "pygments_lexer": "ipython3",
   "version": "3.6.5"
  }
 },
 "nbformat": 4,
 "nbformat_minor": 2
}
